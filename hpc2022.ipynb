{
 "cells": [
  {
   "cell_type": "markdown",
   "id": "9a463861-f8b3-45a5-bafb-f4cddd02c932",
   "metadata": {},
   "source": [
    "# Title is title"
   ]
  },
  {
   "cell_type": "markdown",
   "id": "9adf7cb4-48e8-4795-96b0-a4599c88c562",
   "metadata": {},
   "source": [
    "this is my file"
   ]
  },
  {
   "cell_type": "code",
   "execution_count": 1,
   "id": "9b62140a-0a8b-43c6-b46f-491bd9ec853f",
   "metadata": {},
   "outputs": [],
   "source": [
    "a=2"
   ]
  },
  {
   "cell_type": "code",
   "execution_count": 2,
   "id": "28bf87d6-6b94-405e-95d8-d2bd15b62c6c",
   "metadata": {},
   "outputs": [
    {
     "data": {
      "text/plain": [
       "2"
      ]
     },
     "execution_count": 2,
     "metadata": {},
     "output_type": "execute_result"
    }
   ],
   "source": [
    "a"
   ]
  },
  {
   "cell_type": "code",
   "execution_count": null,
   "id": "21c6ebf9-abb6-4558-9319-7d9eb3562181",
   "metadata": {},
   "outputs": [],
   "source": []
  }
 ],
 "metadata": {
  "kernelspec": {
   "display_name": "Python",
   "language": "python",
   "name": "python3"
  },
  "language_info": {
   "codemirror_mode": {
    "name": "ipython",
    "version": 3
   },
   "file_extension": ".py",
   "mimetype": "text/x-python",
   "name": "python",
   "nbconvert_exporter": "python",
   "pygments_lexer": "ipython3",
   "version": "3.8.10"
  }
 },
 "nbformat": 4,
 "nbformat_minor": 5
}
